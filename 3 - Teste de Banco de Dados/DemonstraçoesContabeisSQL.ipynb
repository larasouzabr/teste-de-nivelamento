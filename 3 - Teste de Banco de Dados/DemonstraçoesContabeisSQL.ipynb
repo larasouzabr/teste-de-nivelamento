{
 "cells": [
  {
   "cell_type": "code",
   "execution_count": null,
   "id": "19808f15",
   "metadata": {},
   "outputs": [],
   "source": [
    "CREATE TABLE demonstracoesContabeis (\n",
    "    ID SERIAL PRIMARY KEY,\n",
    "    DATA DATE,\n",
    "    REG_ANS INT,\n",
    "    CD_CONTA_CONTABIL INT,\n",
    "    DESCRICAO VARCHAR(255),\n",
    "    VL_SALDO_INICIAL MONEY,\n",
    "    VL_SALDO_FINAL MONEY\n",
    ");\n"
   ]
  },
  {
   "cell_type": "markdown",
   "id": "b0bbce58",
   "metadata": {},
   "source": [
    "### IMPORTAR DADOS DA TABELA 1T2023,2T2023 E 3T2023 NO QUAL O DELIMITADOR ENTRE AS COLUNAS É \";\" E DIZENDO QUE CADA COLUNA POSSUI UM HEADER QUE DEVE SER IGNORADO"
   ]
  },
  {
   "cell_type": "code",
   "execution_count": null,
   "id": "8b10c9df",
   "metadata": {},
   "outputs": [],
   "source": [
    "COPY demonstracoescontabeis from 'C:\\\\Users\\\\CLIENTE\\Documents\\1T2023.csv' delimiter ';' csv header\n",
    "COPY demonstracoescontabeis from 'C:\\\\Users\\\\CLIENTE\\Documents\\2T2023.csv' delimiter ';' csv header\n",
    "COPY demonstracoescontabeis from 'C:\\\\Users\\\\CLIENTE\\Documents\\3T2023.csv' delimiter ';' csv header"
   ]
  }
 ],
 "metadata": {
  "kernelspec": {
   "display_name": "Python 3 (ipykernel)",
   "language": "python",
   "name": "python3"
  },
  "language_info": {
   "codemirror_mode": {
    "name": "ipython",
    "version": 3
   },
   "file_extension": ".py",
   "mimetype": "text/x-python",
   "name": "python",
   "nbconvert_exporter": "python",
   "pygments_lexer": "ipython3",
   "version": "3.11.5"
  }
 },
 "nbformat": 4,
 "nbformat_minor": 5
}
