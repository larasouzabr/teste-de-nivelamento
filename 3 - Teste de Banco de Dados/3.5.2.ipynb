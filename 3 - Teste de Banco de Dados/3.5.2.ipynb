{
 "cells": [
  {
   "cell_type": "markdown",
   "id": "bc661c8b",
   "metadata": {},
   "source": [
    "Quais as 10 operadoras com maiores despesas nessa categoria no último ano?"
   ]
  },
  {
   "cell_type": "code",
   "execution_count": null,
   "id": "6f5779c4",
   "metadata": {},
   "outputs": [],
   "source": [
    "SELECT oa.Registro_ANS,\n",
    "       oa.Razao_Social,\n",
    "       SUM(dc.VL_SALDO_FINAL - dc.VL_SALDO_INICIAL) AS despesas_total\n",
    "FROM OperadorasAtivas AS oa\n",
    "JOIN demonstracoesContabeis AS dc ON oa.Registro_ANS = dc.REG_ANS\n",
    "WHERE dc.DATA >= DATE_TRUNC('year', DATE '2023-12-31') - INTERVAL '1 year'\n",
    "  AND dc.DATA <= DATE_TRUNC('year', DATE '2023-12-31')\n",
    "  AND dc.CD_CONTA_CONTABIL = 41161\n",
    "GROUP BY oa.Registro_ANS,\n",
    "         oa.Razao_Social\n",
    "ORDER BY despesas_total DESC\n",
    "LIMIT 10;"
   ]
  }
 ],
 "metadata": {
  "kernelspec": {
   "display_name": "Python 3 (ipykernel)",
   "language": "python",
   "name": "python3"
  },
  "language_info": {
   "codemirror_mode": {
    "name": "ipython",
    "version": 3
   },
   "file_extension": ".py",
   "mimetype": "text/x-python",
   "name": "python",
   "nbconvert_exporter": "python",
   "pygments_lexer": "ipython3",
   "version": "3.11.5"
  }
 },
 "nbformat": 4,
 "nbformat_minor": 5
}
