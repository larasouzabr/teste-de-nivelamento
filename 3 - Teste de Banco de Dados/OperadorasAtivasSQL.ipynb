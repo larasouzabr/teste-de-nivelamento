{
 "cells": [
  {
   "cell_type": "code",
   "execution_count": null,
   "id": "817c4bd4",
   "metadata": {},
   "outputs": [],
   "source": [
    "CREATE TABLE OperadorasAtivas (\n",
    "    Registro_ANS INT PRIMARY KEY,\n",
    "    CNPJ VARCHAR(14),\n",
    "    Razao_Social VARCHAR(255),\n",
    "    Nome_Fantasia VARCHAR(255),\n",
    "    Modalidade VARCHAR(100),\n",
    "    Logradouro VARCHAR(255),\n",
    "    Numero VARCHAR(20),\n",
    "    Complemento VARCHAR(100),\n",
    "    Bairro VARCHAR(100),\n",
    "    Cidade VARCHAR(100),\n",
    "    UF CHAR(2),\n",
    "    CEP VARCHAR(8),\n",
    "    DDD VARCHAR(2),\n",
    "    Telefone VARCHAR(18),\n",
    "    Fax VARCHAR(14),\n",
    "    Endereco_eletronico VARCHAR(255),\n",
    "    Representante VARCHAR(255),\n",
    "    Cargo_Representante VARCHAR(100),\n",
    "    Regiao_de_Comercializacao VARCHAR(255),\n",
    "    Data_Registro_ANS DATE\n",
    ");\n"
   ]
  },
  {
   "cell_type": "code",
   "execution_count": null,
   "id": "26cf0044",
   "metadata": {},
   "outputs": [],
   "source": [
    "COPY operadorasativas from 'C:\\\\Users\\\\CLIENTE\\Documents\\Relatorio_cadop.csv' delimiter ';' csv header"
   ]
  }
 ],
 "metadata": {
  "kernelspec": {
   "display_name": "Python 3 (ipykernel)",
   "language": "python",
   "name": "python3"
  },
  "language_info": {
   "codemirror_mode": {
    "name": "ipython",
    "version": 3
   },
   "file_extension": ".py",
   "mimetype": "text/x-python",
   "name": "python",
   "nbconvert_exporter": "python",
   "pygments_lexer": "ipython3",
   "version": "3.11.5"
  }
 },
 "nbformat": 4,
 "nbformat_minor": 5
}
