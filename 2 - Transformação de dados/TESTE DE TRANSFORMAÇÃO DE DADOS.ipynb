{
 "cells": [
  {
   "cell_type": "markdown",
   "metadata": {},
   "source": [
    "### Download novamente para teste"
   ]
  },
  {
   "cell_type": "code",
   "execution_count": 1,
   "metadata": {},
   "outputs": [
    {
     "name": "stdout",
     "output_type": "stream",
     "text": [
      "arquivos baixados com sucesso\n"
     ]
    }
   ],
   "source": [
    "import os\n",
    "import requests\n",
    "import wget\n",
    "\n",
    "\n",
    "url = \"https://www.gov.br/ans/pt-br/acesso-a-informacao/participacao-da-sociedade/atualizacao-do-rol-de-procedimentos\"\n",
    "response = requests.get(url)\n",
    "\n",
    "anexo_url = [\n",
    "    \"https://www.gov.br/ans/pt-br/acesso-a-informacao/participacao-da-sociedade/atualizacao-do-rol-de-procedimentos/Anexo_I_Rol_2021RN_465.2021_RN592.pdf\",    ]\n",
    "\n",
    "if response.status_code == 200:\n",
    "        wget.download(anexo_url[0], \"Anexo_I_Rol_2021RN_465.2021_RN592.pdf\")\n",
    "        print(\"arquivos baixados com sucesso\")"
   ]
  },
  {
   "cell_type": "markdown",
   "metadata": {
    "id": "g5_DLVxirAII"
   },
   "source": [
    "### Ler Anexo 1 e extrair tabelas csv"
   ]
  },
  {
   "cell_type": "code",
   "execution_count": 9,
   "metadata": {
    "colab": {
     "base_uri": "https://localhost:8080/",
     "height": 384
    },
    "id": "hfGP3gsbnj4R",
    "outputId": "4f1ec7ad-b501-454b-da23-7d364d275c8c"
   },
   "outputs": [],
   "source": [
    "from tabula import read_pdf, convert_into\n",
    "import tabula\n",
    "\n",
    "tabula.read_pdf('Anexo_I_Rol_2021RN_465.2021_RN592.pdf')\n",
    "\n",
    "tabula.convert_into(\"Anexo_I_Rol_2021RN_465.2021_RN592.pdf\", \"Anexo1.csv\",  output_format=\"csv\", pages='all')"
   ]
  },
  {
   "cell_type": "markdown",
   "metadata": {
    "id": "QOvRitaBuHRe"
   },
   "source": [
    "### Compactar Csv"
   ]
  },
  {
   "cell_type": "code",
   "execution_count": 6,
   "metadata": {
    "id": "5e1O3wVRuKPi"
   },
   "outputs": [],
   "source": [
    "from zipfile import ZIP_DEFLATED, ZipFile\n",
    "\n",
    "\n",
    "arquivozip = ZipFile(\"AnexoCSV.zip\", \"w\", compression = ZIP_DEFLATED)\n",
    "arquivozip.write('Anexo1.csv')\n",
    "arquivozip.close()"
   ]
  },
  {
   "cell_type": "markdown",
   "metadata": {
    "id": "GpPQrj2xuNo1"
   },
   "source": [
    "##Renomear colunas"
   ]
  },
  {
   "cell_type": "code",
   "execution_count": null,
   "metadata": {
    "colab": {
     "base_uri": "https://localhost:8080/",
     "height": 391
    },
    "id": "NGCJCY8AuPsd",
    "outputId": "0393ee88-2093-4e56-f6ee-eec9a5b81fbf"
   },
   "outputs": [],
   "source": [
    "import pandas as pd\n",
    "\n",
    "df = pd.read_csv(\"Anexo1.csv\", sep=\",\")\n",
    "df.head()\n",
    "\n",
    "df.rename(columns={'OD': 'Seg. Odontológica', 'AMB': 'Seg. Ambulatorial'},  inplace = True)\n",
    "display(df.head(40))\n",
    "df.to_csv(\"Anexo1-Renomeado.csv\")"
   ]
  }
 ],
 "metadata": {
  "colab": {
   "provenance": []
  },
  "kernelspec": {
   "display_name": "Python 3 (ipykernel)",
   "language": "python",
   "name": "python3"
  },
  "language_info": {
   "codemirror_mode": {
    "name": "ipython",
    "version": 3
   },
   "file_extension": ".py",
   "mimetype": "text/x-python",
   "name": "python",
   "nbconvert_exporter": "python",
   "pygments_lexer": "ipython3",
   "version": "3.12.1"
  }
 },
 "nbformat": 4,
 "nbformat_minor": 1
}
