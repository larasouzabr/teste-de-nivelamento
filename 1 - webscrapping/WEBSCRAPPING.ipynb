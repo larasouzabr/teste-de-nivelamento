{
 "cells": [
  {
   "cell_type": "markdown",
   "id": "fb821a6a",
   "metadata": {},
   "source": [
    "### Fazer download dos arquivos\n"
   ]
  },
  {
   "cell_type": "code",
   "execution_count": null,
   "id": "42724690",
   "metadata": {},
   "outputs": [],
   "source": [
    "import os\n",
    "import requests\n",
    "import wget\n",
    "\n",
    "\n",
    "url = \"https://www.gov.br/ans/pt-br/acesso-a-informacao/participacao-da-sociedade/atualizacao-do-rol-de-procedimentos\"\n",
    "response = requests.get(url)\n",
    "\n",
    "anexos_url = [\n",
    "    \"https://www.gov.br/ans/pt-br/acesso-a-informacao/participacao-da-sociedade/atualizacao-do-rol-de-procedimentos/Anexo_I_Rol_2021RN_465.2021_RN592.pdf\",\n",
    "    \"https://www.gov.br/ans/pt-br/acesso-a-informacao/participacao-da-sociedade/atualizacao-do-rol-de-procedimentos/Anexo_II_DUT_2021_RN_465.2021_RN596.pdf\"\n",
    "    ]\n",
    "\n",
    "if response.status_code == 200:\n",
    "        wget.download(anexos_url[0], \"Anexo_I_Rol_2021RN_465.2021_RN592.pdf\")\n",
    "        wget.download(anexos_url[0], \"Anexo_II_DUT_2021_RN_465.2021_RN596.pdf\")\n",
    "        print(\"arquivos baixados com sucesso\")"
   ]
  },
  {
   "cell_type": "code",
   "execution_count": null,
   "id": "31bf6844",
   "metadata": {},
   "outputs": [],
   "source": [
    "### Compactar arquivos .zip"
   ]
  },
  {
   "cell_type": "code",
   "execution_count": null,
   "id": "1fdb9db1",
   "metadata": {},
   "outputs": [],
   "source": [
    "from zipfile import ZIP_DEFLATED, ZipFile\n",
    "\n",
    "\n",
    "arquivozip = ZipFile(\"Anexos.zip\", \"w\", compression = ZIP_DEFLATED)\n",
    "arquivozip.write('Anexo_I_Rol_2021RN_465.2021_RN592.pdf')\n",
    "arquivozip.write('Anexo_II_DUT_2021_RN_465.2021_RN596.pdf')\n",
    "arquivozip.close()"
   ]
  }
 ],
 "metadata": {
  "kernelspec": {
   "display_name": "Python 3 (ipykernel)",
   "language": "python",
   "name": "python3"
  },
  "language_info": {
   "codemirror_mode": {
    "name": "ipython",
    "version": 3
   },
   "file_extension": ".py",
   "mimetype": "text/x-python",
   "name": "python",
   "nbconvert_exporter": "python",
   "pygments_lexer": "ipython3",
   "version": "3.11.5"
  }
 },
 "nbformat": 4,
 "nbformat_minor": 5
}
